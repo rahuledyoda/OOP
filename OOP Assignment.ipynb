{
 "cells": [
  {
   "cell_type": "code",
   "execution_count": 27,
   "id": "cb33d358",
   "metadata": {},
   "outputs": [
    {
     "data": {
      "text/plain": [
       "100"
      ]
     },
     "execution_count": 27,
     "metadata": {},
     "output_type": "execute_result"
    }
   ],
   "source": [
    "# Write a Python class to implement pow(x, n)\n",
    "\n",
    "\n",
    "\n",
    "# Explanation:\n",
    "\n",
    "# Use should be able to find the nth power of the x.(i.e x*x*x*x...n times)\n",
    "\n",
    "# You must implement it using Class\n",
    "\n",
    "\n",
    "\n",
    "# Sample Input:\n",
    "\n",
    "# x: 10\n",
    "\n",
    "# n: 2\n",
    "\n",
    "\n",
    "\n",
    "# Sample Output:\n",
    "\n",
    "# 100\n",
    "\n",
    "\n",
    "class power():\n",
    "    def nth_power(self,x,n):\n",
    "        if x ==1 or n == 0:\n",
    "            return 1\n",
    "        if x == 0:\n",
    "            return 0\n",
    "        if x == -1:\n",
    "            if n%2==0:\n",
    "                return 1\n",
    "            else:\n",
    "                return -1\n",
    "        if n<0:\n",
    "            return 1/self.nth_power(x,-n)\n",
    "        result = self.nth_power(x,n//2)\n",
    "        if n%2==0:\n",
    "            return result*result\n",
    "        return result*result*x\n",
    "    \n",
    "rahul = power()\n",
    "rahul.nth_power(10,2)\n"
   ]
  },
  {
   "cell_type": "code",
   "execution_count": 28,
   "id": "98046ed6",
   "metadata": {},
   "outputs": [
    {
     "data": {
      "text/plain": [
       "5.12e-07"
      ]
     },
     "execution_count": 28,
     "metadata": {},
     "output_type": "execute_result"
    }
   ],
   "source": [
    "rahul.nth_power(125,-3)\n"
   ]
  },
  {
   "cell_type": "code",
   "execution_count": null,
   "id": "83916232",
   "metadata": {},
   "outputs": [],
   "source": []
  }
 ],
 "metadata": {
  "kernelspec": {
   "display_name": "Python 3",
   "language": "python",
   "name": "python3"
  },
  "language_info": {
   "codemirror_mode": {
    "name": "ipython",
    "version": 3
   },
   "file_extension": ".py",
   "mimetype": "text/x-python",
   "name": "python",
   "nbconvert_exporter": "python",
   "pygments_lexer": "ipython3",
   "version": "3.8.8"
  }
 },
 "nbformat": 4,
 "nbformat_minor": 5
}
